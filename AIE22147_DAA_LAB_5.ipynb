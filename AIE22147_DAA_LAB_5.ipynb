{
  "cells": [
    {
      "cell_type": "markdown",
      "metadata": {
        "id": "CY2pmnvY0Q5U"
      },
      "source": [
        "**Question 1**"
      ]
    },
    {
      "cell_type": "code",
      "execution_count": 1,
      "metadata": {
        "colab": {
          "base_uri": "https://localhost:8080/"
        },
        "id": "m2_yJaVqoKQ7",
        "outputId": "cd2a5be6-9dab-4234-f772-2b0320d391a4"
      },
      "outputs": [
        {
          "name": "stdout",
          "output_type": "stream",
          "text": [
            "4\n",
            "19\n",
            "12\n"
          ]
        }
      ],
      "source": [
        "def candy(n, arr):\n",
        "    candy = [1] * n\n",
        "\n",
        "    # Traverse from left to right, and ensure that a child with a higher rating\n",
        "    # gets more candy than the one with a lower rating on his left side.\n",
        "    for i in range(1, n):\n",
        "        if arr[i] > arr[i-1]:\n",
        "            candy[i] = candy[i-1] + 1\n",
        "\n",
        "    # Traverse from right to left, and ensure that a child with a higher rating\n",
        "    # gets more candy than the one with a lower rating on his right side.\n",
        "    for i in range(n-2, -1, -1):\n",
        "        if arr[i] > arr[i+1]:\n",
        "            candy[i] = max(candy[i], candy[i+1] + 1)\n",
        "\n",
        "    # Return the sum of candy needed\n",
        "    return sum(candy)\n",
        "\n",
        "n0 = 3\n",
        "arr0 = [1, 2, 2]\n",
        "print(candy(n0, arr0))\n",
        "\n",
        "n1 = 10\n",
        "arr1 = [2, 4, 2, 6, 1, 7, 8, 9, 2, 1]\n",
        "print(candy(n1, arr1))\n",
        "\n",
        "n2 = 8\n",
        "arr2 = [2, 4, 3, 5, 2, 6, 4, 5]\n",
        "print(candy(n2, arr2))"
      ]
    },
    {
      "cell_type": "markdown",
      "metadata": {
        "id": "8Aqlf5f30oVT"
      },
      "source": [
        "**Question 2**"
      ]
    },
    {
      "cell_type": "code",
      "execution_count": 2,
      "metadata": {
        "colab": {
          "base_uri": "https://localhost:8080/"
        },
        "id": "A1UPUTwG0rpE",
        "outputId": "b04faf2b-29d1-4c85-d8ce-afc53ce39350"
      },
      "outputs": [
        {
          "name": "stdout",
          "output_type": "stream",
          "text": [
            "10\n"
          ]
        }
      ],
      "source": [
        "def max_People(p, x, y, r):\n",
        "    n = len(p)\n",
        "    m = len(y)\n",
        "    ans = 0\n",
        "    for i in range(m):\n",
        "        cnt = 0\n",
        "        for j in range(n):\n",
        "            if x[j] >= y[i] - r[i] and x[j] <= y[i] + r[i]:\n",
        "                cnt += p[j]\n",
        "        ans = max_People(ans, cnt)\n",
        "    return ans\n",
        "\n",
        "n = 2\n",
        "p = [10, 100]\n",
        "x = [5, 100]\n",
        "m = 1\n",
        "y = [4]\n",
        "r = [1]\n",
        "\n",
        "print(max_People(p, x, y, r))"
      ]
    },
    {
      "cell_type": "markdown",
      "metadata": {
        "id": "Q5rkqMUy1I1N"
      },
      "source": [
        "**Question 3**"
      ]
    },
    {
      "cell_type": "code",
      "execution_count": 3,
      "metadata": {
        "colab": {
          "base_uri": "https://localhost:8080/"
        },
        "id": "THpU49t-1L8V",
        "outputId": "e614eefd-af87-400c-f546-883859e98d7c"
      },
      "outputs": [
        {
          "name": "stdout",
          "output_type": "stream",
          "text": [
            "2\n"
          ]
        }
      ],
      "source": [
        "def pylons(k, arr):\n",
        "    n = len(arr)\n",
        "    plants = 0\n",
        "    i = 0\n",
        "\n",
        "    while i < n:\n",
        "        j = min(i + k - 1, n - 1)\n",
        "        while j >= max(0, i - k + 1):\n",
        "            if arr[j] == 1:\n",
        "                plants += 1\n",
        "                i = j + k\n",
        "                break\n",
        "            j -= 1\n",
        "        else:\n",
        "            return -1\n",
        "\n",
        "    return plants\n",
        "\n",
        "cities, k = 6, 2\n",
        "arr = [0, 1, 1, 1, 1, 0]\n",
        "\n",
        "print(pylons(k, arr))"
      ]
    }
  ],
  "metadata": {
    "colab": {
      "provenance": []
    },
    "kernelspec": {
      "display_name": "Python 3",
      "name": "python3"
    },
    "language_info": {
      "name": "python"
    }
  },
  "nbformat": 4,
  "nbformat_minor": 0
}
