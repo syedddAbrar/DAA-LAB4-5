{
  "cells": [
    {
      "cell_type": "markdown",
      "metadata": {
        "id": "O89wZsd4pNOo"
      },
      "source": [
        "**Question 1**"
      ]
    },
    {
      "cell_type": "code",
      "execution_count": 1,
      "metadata": {
        "colab": {
          "base_uri": "https://localhost:8080/"
        },
        "id": "4VS5faEhplpw",
        "outputId": "ca8af786-f047-4512-fd90-c9f121c41ebc"
      },
      "outputs": [
        {
          "name": "stdout",
          "output_type": "stream",
          "text": [
            "Optimal solution: 44.6\n"
          ]
        }
      ],
      "source": [
        "def frac_knapsack(items, capacity):\n",
        "    for item in items:\n",
        "        item.append(item[1] / item[2])\n",
        "    # Sort items by ratio in descending order\n",
        "    items.sort(key=lambda x: x[3], reverse=True)\n",
        "    total_benefit = 0\n",
        "    remaining_capacity = capacity\n",
        "\n",
        "    for item in items:\n",
        "        if remaining_capacity >= item[2]:\n",
        "            total_benefit += item[1]\n",
        "            remaining_capacity -= item[2]\n",
        "        else:\n",
        "            fraction = remaining_capacity / item[2]\n",
        "            total_benefit += fraction * item[1]\n",
        "            break\n",
        "\n",
        "    return total_benefit\n",
        "\n",
        "items = [\n",
        "    ['a', 12, 4],\n",
        "    ['b', 10, 6],\n",
        "    ['c', 8, 5],\n",
        "    ['d', 11, 7],\n",
        "    ['e', 14, 3],\n",
        "    ['f', 7, 1],\n",
        "    ['g', 9, 6]\n",
        "]\n",
        "capacity = 15\n",
        "\n",
        "optimal_solution = frac_knapsack(items, capacity)\n",
        "print(\"Optimal solution:\", optimal_solution)"
      ]
    },
    {
      "cell_type": "markdown",
      "metadata": {
        "id": "zkB06lbEqKkB"
      },
      "source": [
        "**Question 2**"
      ]
    },
    {
      "cell_type": "code",
      "execution_count": 2,
      "metadata": {
        "colab": {
          "base_uri": "https://localhost:8080/"
        },
        "id": "SnxjJrR4AD3b",
        "outputId": "5bdf48d0-d3f2-45af-9512-0ecfcb9d4228"
      },
      "outputs": [
        {
          "name": "stdout",
          "output_type": "stream",
          "text": [
            "40\n",
            "40\n"
          ]
        }
      ],
      "source": [
        "array = [2,5,3,4,0]\n",
        "array.sort()\n",
        "sums = 0\n",
        "for i in range(0,len(array)):\n",
        "    sums = sums+ array[i]*i\n",
        "print(sums)\n",
        "\n",
        "#brute force\n",
        "def genearte_permut(array, current_index, n, max_sum):\n",
        "    if current_index == n:\n",
        "        current_sum = 0\n",
        "        for i in range(n):\n",
        "            current_sum += array[i] * i\n",
        "        max_sum[0] = max(max_sum[0], current_sum)\n",
        "        return\n",
        "\n",
        "    for i in range(current_index, n):\n",
        "        array[current_index], array[i] = array[i], array[current_index]\n",
        "        genearte_permut(array, current_index + 1, n, max_sum)\n",
        "        array[current_index], array[i] = array[i], array[current_index]\n",
        "\n",
        "def brute_force(array):\n",
        "    max_sum = [float('-inf')]\n",
        "    genearte_permut(array, 0, len(array), max_sum)\n",
        "    return max_sum[0]\n",
        "\n",
        "array = [2, 5, 3, 4, 0]\n",
        "max_sum = brute_force(array)\n",
        "print(max_sum)"
      ]
    },
    {
      "cell_type": "markdown",
      "metadata": {
        "id": "WU5Uw6D3qOoW"
      },
      "source": [
        "**Question 3**"
      ]
    },
    {
      "cell_type": "code",
      "execution_count": 3,
      "metadata": {
        "colab": {
          "base_uri": "https://localhost:8080/"
        },
        "id": "7_Hgyu7RAQid",
        "outputId": "fb411868-7fc3-4e3b-c519-3b3b933e1ff7"
      },
      "outputs": [
        {
          "name": "stdout",
          "output_type": "stream",
          "text": [
            "104\n"
          ]
        }
      ],
      "source": [
        "array_one = [7,5,1,4]\n",
        "array_two = [6,17,9,3]\n",
        "array_one.sort()\n",
        "array_two.sort()\n",
        "sums =  0\n",
        "for i in range(0,len(array_one)):\n",
        "    sums = sums + array_one[i]*array_two[len(array_two)-1-i]\n",
        "print(sums)"
      ]
    }
  ],
  "metadata": {
    "colab": {
      "provenance": []
    },
    "kernelspec": {
      "display_name": "Python 3",
      "name": "python3"
    },
    "language_info": {
      "name": "python"
    }
  },
  "nbformat": 4,
  "nbformat_minor": 0
}
